{
 "cells": [
  {
   "cell_type": "code",
   "execution_count": 2,
   "id": "5e03fc5c",
   "metadata": {},
   "outputs": [],
   "source": [
    "import pandas as pd\n",
    "\n",
    "df = pd.read_csv('aapl_5y.csv')\n",
    "\n",
    "\n"
   ]
  },
  {
   "cell_type": "code",
   "execution_count": 3,
   "id": "fde3132e",
   "metadata": {},
   "outputs": [
    {
     "name": "stdout",
     "output_type": "stream",
     "text": [
      "Index(['Date', 'Close/Last', 'Volume', 'Open', 'High', 'Low'], dtype='object')\n",
      "count        1257\n",
      "unique       1190\n",
      "top       $175.84\n",
      "freq            3\n",
      "Name: Close/Last, dtype: object\n"
     ]
    }
   ],
   "source": [
    "print(df.columns)\n",
    "print(df['Close/Last'].describe())\n"
   ]
  },
  {
   "cell_type": "code",
   "execution_count": 4,
   "id": "a0211af4",
   "metadata": {},
   "outputs": [
    {
     "name": "stdout",
     "output_type": "stream",
     "text": [
      "count    1257.000000\n",
      "mean      163.075573\n",
      "std        39.535422\n",
      "min        67.092500\n",
      "25%       135.370000\n",
      "50%       161.020000\n",
      "75%       186.190000\n",
      "max       259.020000\n",
      "Name: Close/Last, dtype: float64\n"
     ]
    }
   ],
   "source": [
    "df_clean = (df['Close/Last'].str.replace(\"$\", \"\")).astype(float)\n",
    "print(df_clean.describe())"
   ]
  },
  {
   "cell_type": "code",
   "execution_count": null,
   "id": "7b6fb703",
   "metadata": {},
   "outputs": [],
   "source": []
  }
 ],
 "metadata": {
  "kernelspec": {
   "display_name": ".venv",
   "language": "python",
   "name": "python3"
  },
  "language_info": {
   "codemirror_mode": {
    "name": "ipython",
    "version": 3
   },
   "file_extension": ".py",
   "mimetype": "text/x-python",
   "name": "python",
   "nbconvert_exporter": "python",
   "pygments_lexer": "ipython3",
   "version": "3.10.12"
  }
 },
 "nbformat": 4,
 "nbformat_minor": 5
}
